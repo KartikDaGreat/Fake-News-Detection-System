{
 "cells": [
  {
   "cell_type": "code",
   "execution_count": null,
   "metadata": {},
   "outputs": [],
   "source": [
    "import pandas as pd\n",
    "from sklearn.feature_extraction.text import TfidfVectorizer\n",
    "from sklearn.model_selection import train_test_split\n",
    "from sklearn.metrics import accuracy_score\n",
    "from sklearn.linear_model import PassiveAggressiveClassifier, SGDClassifier\n",
    "from sklearn.ensemble import GradientBoostingClassifier\n",
    "from skmultiflow.trees import HoeffdingTree\n",
    "import matplotlib.pyplot as plt\n",
    "\n",
    "# Load and preprocess data\n",
    "fake_news = \"D:/Desktop/Fake_News_Dataset/ISOT_fake.csv\"\n",
    "true_news = \"D:/Desktop/Fake_News_Dataset/ISOT_true.csv\"\n",
    "true_df = pd.read_csv(fake_news)\n",
    "fake_df = pd.read_csv(true_news)\n",
    "true_df[\"label\"] = 1  # 1 for true news\n",
    "fake_df[\"label\"] = 0  # 0 for fake news\n",
    "combined_df = pd.concat([true_df, fake_df], ignore_index=True)\n",
    "combined_df = combined_df.sample(frac=1, random_state=42).reset_index(drop=True)\n"
   ]
  },
  {
   "cell_type": "code",
   "execution_count": null,
   "metadata": {},
   "outputs": [],
   "source": [
    "\n",
    "# Split data into train and test sets\n",
    "X_train, X_test, y_train, y_test = train_test_split(combined_df['text'], combined_df['label'], test_size=0.2, random_state=42)\n",
    "\n",
    "# Initialize TF-IDF vectorizer\n",
    "vectorizer = TfidfVectorizer(stop_words='english', max_features=5000)\n",
    "X_train_tfidf = vectorizer.fit_transform(X_train)\n",
    "X_test_tfidf = vectorizer.transform(X_test)\n",
    "\n",
    "# Initialize classifiers\n",
    "pac = PassiveAggressiveClassifier(random_state=42)\n",
    "sgd = SGDClassifier(loss='log_loss', random_state=42)\n",
    "ht = HoeffdingTree()\n",
    "gb = GradientBoostingClassifier()\n",
    "\n",
    "# Initialize lists to store accuracy values\n",
    "pac_accuracies = []\n",
    "sgd_accuracies = []\n",
    "ht_accuracies = []\n",
    "gb_accuracies = []\n",
    "training_sizes = []\n"
   ]
  },
  {
   "cell_type": "code",
   "execution_count": null,
   "metadata": {},
   "outputs": [],
   "source": [
    "batch_size = 1000\n",
    "num_batches = len(combined_df) // batch_size\n",
    "\n",
    "for i in range(num_batches):\n",
    "    start_index = i * batch_size\n",
    "    end_index = min((i + 1) * batch_size, len(combined_df))\n",
    "    \n",
    "    X_partial = X_train_tfidf[start_index:end_index]\n",
    "    y_partial = y_train[start_index:end_index]\n",
    "    \n",
    "    # Train Passive Aggressive Classifier\n",
    "    pac.fit(X_partial, y_partial)\n",
    "    pac_pred = pac.predict(X_test_tfidf)\n",
    "    pac_accuracies.append(accuracy_score(y_test, pac_pred))\n",
    "    \n",
    "    # Train SGD Classifier\n",
    "    sgd.fit(X_partial, y_partial)\n",
    "    sgd_pred = sgd.predict(X_test_tfidf)\n",
    "    sgd_accuracies.append(accuracy_score(y_test, sgd_pred))\n",
    "    \n",
    "    # Train Hoeffding Tree classifier incrementally\n",
    "    for j in range(start_index, end_index):\n",
    "        text = combined_df.loc[j, 'text']\n",
    "        label = combined_df.loc[j, 'label']\n",
    "        X_partial_ht = vectorizer.transform([text]).toarray()[0]\n",
    "        ht.partial_fit([X_partial_ht], [int(label)])\n",
    "    \n",
    "    # Evaluate accuracy every 1000 samples\n",
    "    if (i + 1) % 10 == 0:\n",
    "        pac_pred = pac.predict(X_test_tfidf)\n",
    "        pac_accuracies.append(accuracy_score(y_test, pac_pred))\n",
    "        \n",
    "        sgd_pred = sgd.predict(X_test_tfidf)\n",
    "        sgd_accuracies.append(accuracy_score(y_test, sgd_pred))\n",
    "        \n",
    "        ht_pred = ht.predict(X_test_tfidf.toarray())\n",
    "        ht_accuracies.append(accuracy_score(y_test, ht_pred))\n",
    "        \n",
    "        X_test_features = pd.DataFrame({'PAC': pac_pred, 'SGD': sgd_pred, 'HT': ht_pred})\n",
    "        gb_pred = gb.predict(X_test_features)\n",
    "        gb_accuracies.append(accuracy_score(y_test, gb_pred))\n",
    "        \n",
    "        training_sizes.append(end_index)\n"
   ]
  },
  {
   "cell_type": "code",
   "execution_count": null,
   "metadata": {},
   "outputs": [],
   "source": [
    "plt.plot(training_sizes, pac_accuracies, label='Passive Aggressive Classifier')\n",
    "plt.plot(training_sizes, sgd_accuracies, label='SGD Classifier')\n",
    "plt.plot(training_sizes, ht_accuracies, label='Hoeffding Tree')\n",
    "plt.plot(training_sizes, gb_accuracies, label='Gradient Boosting Ensemble')\n",
    "plt.xlabel('Training Size')\n",
    "plt.ylabel('Accuracy')\n",
    "plt.title('Accuracy vs Training Size')\n",
    "plt.legend()\n",
    "plt.show()"
   ]
  },
  {
   "cell_type": "code",
   "execution_count": null,
   "metadata": {},
   "outputs": [],
   "source": []
  }
 ],
 "metadata": {
  "kernelspec": {
   "display_name": ".venv",
   "language": "python",
   "name": "python3"
  },
  "language_info": {
   "codemirror_mode": {
    "name": "ipython",
    "version": 3
   },
   "file_extension": ".py",
   "mimetype": "text/x-python",
   "name": "python",
   "nbconvert_exporter": "python",
   "pygments_lexer": "ipython3",
   "version": "3.11.0"
  }
 },
 "nbformat": 4,
 "nbformat_minor": 2
}
